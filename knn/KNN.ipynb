{
 "cells": [
  {
   "cell_type": "code",
   "execution_count": 1,
   "metadata": {},
   "outputs": [],
   "source": [
    "from numpy import *\n",
    "import operator"
   ]
  },
  {
   "cell_type": "markdown",
   "metadata": {},
   "source": [
    "## 算法实现\n",
    "步骤：\n",
    "1. 计算已知点与当前点的距离\n",
    "2. 按照距离递增排序\n",
    "3. 选取与当前点距离最小的k个点\n",
    "4. 确定前k个点所在的类别的频率\n",
    "5. 返回预测类型"
   ]
  },
  {
   "cell_type": "code",
   "execution_count": 30,
   "metadata": {},
   "outputs": [],
   "source": [
    "def classify0(inx,dataset,labels,k):\n",
    "    size = dataset.shape[0]  #计算数据行数\n",
    "    distMap = tile(inx,(size,1)) - dataset  #将输入数据（特征）复制为size行并减去训练数据的值，这是计算的第一步\n",
    "    distMap **= 2 #平方\n",
    "    distSum = distMap.sum(axis=1)\n",
    "    distances = distSum ** 0.5\n",
    "    sortedIndex = distances.argsort()  #返回排序后的数组的下标,顺序由小到大\n",
    "    classcount = {}  #计算分类总数\n",
    "    for i in range(k):  #遍历距离最小的前k个点\n",
    "        label = labels[sortedIndex[i]]  \n",
    "        #这里的sortedIndex[i]是上述排序后的数组的值，比如距离最近的点的下标为2，则sortedIndex[0]=2；从而得到label2\n",
    "        classcount[label] = classcount.get(label,0) + 1 #在classcount字典中给对应的分类计数+1，这里注意get的用法，由于是字典，不能直接用下标\n",
    "    sortedclasscount = sorted(classcount.items(),key=operator.itemgetter(1),reverse=True)\n",
    "    #这里是给classcount字典排序，python3里废除了iteritem，items可将字典放进一个元组中，然后再利用sorted方法进行排序，得到最终结果\n",
    "    return sortedclasscount[0][0]"
   ]
  },
  {
   "cell_type": "markdown",
   "metadata": {},
   "source": [
    "## 测试"
   ]
  },
  {
   "cell_type": "code",
   "execution_count": 31,
   "metadata": {},
   "outputs": [
    {
     "data": {
      "text/plain": [
       "'B'"
      ]
     },
     "execution_count": 31,
     "metadata": {},
     "output_type": "execute_result"
    }
   ],
   "source": [
    "group = array([[1.0,1.1],[1.0,1.0],[0,0],[0,0.1]])\n",
    "labels = ['A','A','B','B']\n",
    "inputdata = [2.0,1.0]\n",
    "output = classify0([0,0],group,labels,3)\n",
    "output"
   ]
  },
  {
   "cell_type": "markdown",
   "metadata": {},
   "source": [
    "## 一个完整的实例\n",
    "数据为《机器学习实战》里的海伦约会数据datingTestSet.txt，输入的特征为3维"
   ]
  },
  {
   "cell_type": "markdown",
   "metadata": {},
   "source": [
    "### V1.0 \n",
    "首先需要将txt文件转为numpy"
   ]
  },
  {
   "cell_type": "code",
   "execution_count": 40,
   "metadata": {},
   "outputs": [],
   "source": [
    "def file2matrix(filename):\n",
    "    fr = open(filename)\n",
    "    arraylines = fr.readlines()  #返回的是字符串数组\n",
    "    numberoflines = len(arraylines)\n",
    "    returnMat = zeros((numberoflines,3))  #返回的n*3的矩阵\n",
    "    classLableVector = []  #返回的标签\n",
    "    index = 0\n",
    "    for item in arraylines:\n",
    "        line = item.strip()  #去掉头尾指定换行符\n",
    "        listFromline = line.split('\\t')  #以空格为分隔符\n",
    "        returnMat[index,:] = listFromline[0:3]\n",
    "        classLableVector.append(listFromline[3])\n",
    "        index += 1\n",
    "    return returnMat,classLableVector"
   ]
  },
  {
   "cell_type": "code",
   "execution_count": 46,
   "metadata": {},
   "outputs": [
    {
     "data": {
      "text/plain": [
       "(1000, 3)"
      ]
     },
     "execution_count": 46,
     "metadata": {},
     "output_type": "execute_result"
    }
   ],
   "source": [
    "datingDataMat,datingDataLabels = file2matrix('./data/datingTestSet.txt')\n",
    "datingDataMat.shape"
   ]
  },
  {
   "cell_type": "code",
   "execution_count": 67,
   "metadata": {},
   "outputs": [
    {
     "name": "stdout",
     "output_type": "stream",
     "text": [
      "****************************************\n",
      "The prediction is :  didntLike\n",
      "The truth is :  didntLike\n",
      "****************************************\n",
      "The prediction is :  largeDoses\n",
      "The truth is :  largeDoses\n",
      "****************************************\n",
      "The prediction is :  didntLike\n",
      "The truth is :  largeDoses\n",
      "****************************************\n",
      "The prediction is :  didntLike\n",
      "The truth is :  largeDoses\n"
     ]
    }
   ],
   "source": [
    "train_x = datingDataMat[0:996,:]\n",
    "train_y = datingDataLabels[0:996]\n",
    "test_x = datingDataMat[996:1000,:]\n",
    "for i in range(4):\n",
    "    truth = datingDataLabels[i+996]\n",
    "    predict = classify0(test_x[i],train_x,train_y,5)\n",
    "    print(\"*\" * 40)\n",
    "    print(\"The prediction is : \",predict)\n",
    "    print(\"The truth is : \", truth)"
   ]
  },
  {
   "cell_type": "markdown",
   "metadata": {},
   "source": [
    "经手工调试，发现在k值较大时得到的结果较为准确，但在k值较小时正确率较低"
   ]
  },
  {
   "cell_type": "markdown",
   "metadata": {},
   "source": [
    "### V1.1\n",
    "书上也给出了提示，由于特征值的取值范围差异较大，因此取值较大的特征在计算距离时会产生较大的影响。为了消除这种不平衡，需要进行归一化。"
   ]
  },
  {
   "cell_type": "code",
   "execution_count": 60,
   "metadata": {},
   "outputs": [],
   "source": [
    "def autoNorm(dataset):\n",
    "    minVals = dataset.min(0)\n",
    "    maxVals = dataset.max(0)\n",
    "    ranges = maxVals-minVals\n",
    "    normDataSet = zeros(shape(dataset))\n",
    "    m = dataset.shape[0]\n",
    "    normDataset = dataset - tile(minVals,(m,1))\n",
    "    normDataset /= tile(ranges,(m,1))\n",
    "    return normDataset,ranges,minVals"
   ]
  },
  {
   "cell_type": "code",
   "execution_count": 68,
   "metadata": {},
   "outputs": [
    {
     "name": "stdout",
     "output_type": "stream",
     "text": [
      "****************************************\n",
      "The prediction is :  didntLike\n",
      "The truth is :  didntLike\n",
      "****************************************\n",
      "The prediction is :  largeDoses\n",
      "The truth is :  largeDoses\n",
      "****************************************\n",
      "The prediction is :  largeDoses\n",
      "The truth is :  largeDoses\n",
      "****************************************\n",
      "The prediction is :  largeDoses\n",
      "The truth is :  largeDoses\n"
     ]
    }
   ],
   "source": [
    "norm,ranges,minVals = autoNorm(datingDataMat)\n",
    "train_x_norm = norm[0:996,:]\n",
    "train_y = datingDataLabels[0:996]\n",
    "test_x_norm = norm[996:1000,:]\n",
    "for i in range(4):\n",
    "    truth = datingDataLabels[i+996]\n",
    "    predict = classify0(test_x_norm[i],train_x_norm,train_y,5)\n",
    "    print(\"*\" * 40)\n",
    "    print(\"The prediction is : \",predict)\n",
    "    print(\"The truth is : \", truth)"
   ]
  },
  {
   "cell_type": "code",
   "execution_count": null,
   "metadata": {},
   "outputs": [],
   "source": []
  }
 ],
 "metadata": {
  "kernelspec": {
   "display_name": "Python 3",
   "language": "python",
   "name": "python3"
  },
  "language_info": {
   "codemirror_mode": {
    "name": "ipython",
    "version": 3
   },
   "file_extension": ".py",
   "mimetype": "text/x-python",
   "name": "python",
   "nbconvert_exporter": "python",
   "pygments_lexer": "ipython3",
   "version": "3.6.5"
  }
 },
 "nbformat": 4,
 "nbformat_minor": 2
}
